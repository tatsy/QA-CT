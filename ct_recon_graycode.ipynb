{
 "cells": [
  {
   "cell_type": "markdown",
   "metadata": {},
   "source": [
    "# CT reconstruction by Quantum Annealing (GRAYCODE)"
   ]
  },
  {
   "cell_type": "markdown",
   "metadata": {},
   "source": [
    "## Preparation"
   ]
  },
  {
   "cell_type": "code",
   "execution_count": 1,
   "metadata": {},
   "outputs": [],
   "source": [
    "from itertools import product\n",
    "\n",
    "import cv2\n",
    "import numpy as np\n",
    "from tqdm.auto import tqdm\n",
    "\n",
    "import matplotlib as mpl\n",
    "import seaborn as sns\n",
    "import matplotlib.pyplot as plt\n",
    "\n",
    "from skimage.data import shepp_logan_phantom"
   ]
  },
  {
   "cell_type": "code",
   "execution_count": 2,
   "metadata": {},
   "outputs": [],
   "source": [
    "import dimod\n",
    "from dwave.cloud import Client\n",
    "from dwave.samplers import SimulatedAnnealingSampler\n",
    "from dwave.system import LeapHybridSampler\n",
    "\n",
    "import openjij as oj\n",
    "import jijmodeling as jm\n",
    "import jijmodeling_transpiler as jmt"
   ]
  },
  {
   "cell_type": "code",
   "execution_count": 3,
   "metadata": {
    "tags": [
     "parameters"
    ]
   },
   "outputs": [],
   "source": [
    "use_leap = False\n",
    "img_size = 8\n",
    "bits = 4\n",
    "label = \"Graycode CT reconstruction\""
   ]
  },
  {
   "cell_type": "code",
   "execution_count": 4,
   "metadata": {},
   "outputs": [
    {
     "name": "stdout",
     "output_type": "stream",
     "text": [
      "hybrid_binary_quadratic_model_version2\n",
      "hybrid_discrete_quadratic_model_version1\n",
      "hybrid_constrained_quadratic_model_version1\n",
      "Advantage_system6.4\n",
      "Advantage2_prototype2.3\n",
      "Advantage_system4.1\n"
     ]
    }
   ],
   "source": [
    "client = Client.from_config()\n",
    "for s in client.get_solvers():\n",
    "    print(s.id)"
   ]
  },
  {
   "cell_type": "code",
   "execution_count": 5,
   "metadata": {},
   "outputs": [],
   "source": [
    "rc = {\n",
    "    \"figure.dpi\": 150,\n",
    "    \"figure.autolayout\": False,\n",
    "    \"font.family\": \"sans-serif\",\n",
    "    \"font.sans-serif\": \"Arial\",\n",
    "    \"axes.titlesize\": 16,\n",
    "    \"axes.labelsize\": 12,\n",
    "    \"xtick.labelsize\": 10,\n",
    "    \"ytick.labelsize\": 10,\n",
    "}\n",
    "sns.set_theme(context=\"notebook\", style=\"white\", rc=rc)"
   ]
  },
  {
   "cell_type": "markdown",
   "metadata": {},
   "source": [
    "## Compute sinogram from Shepp-Logan phantom"
   ]
  },
  {
   "cell_type": "code",
   "execution_count": 6,
   "metadata": {},
   "outputs": [
    {
     "name": "stdout",
     "output_type": "stream",
     "text": [
      "size: 512x512\n",
      "range: [0.0, 1.0]\n"
     ]
    }
   ],
   "source": [
    "# Load Shepp Logan phantom\n",
    "image = shepp_logan_phantom()\n",
    "image = image.astype(\"float32\")\n",
    "image = np.pad(image, ((56, 56), (56, 56)), mode=\"constant\", constant_values=0)\n",
    "print(f\"size: {image.shape[1]}x{image.shape[0]}\")\n",
    "print(f\"range: [{image.min():.1f}, {image.max():.1f}]\")"
   ]
  },
  {
   "cell_type": "code",
   "execution_count": 7,
   "metadata": {},
   "outputs": [
    {
     "name": "stdout",
     "output_type": "stream",
     "text": [
      "size: 8x8\n",
      "range: [0.0, 1.0]\n"
     ]
    }
   ],
   "source": [
    "# Shrink image to fit the number of qubits\n",
    "image = cv2.resize(image, (img_size, img_size), interpolation=cv2.INTER_AREA)\n",
    "image = (image - image.min()) / (image.max() - image.min())\n",
    "print(f\"size: {image.shape[1]}x{image.shape[0]}\")\n",
    "print(f\"range: [{image.min():.1f}, {image.max():.1f}]\")"
   ]
  },
  {
   "cell_type": "code",
   "execution_count": 8,
   "metadata": {},
   "outputs": [],
   "source": [
    "# Quantize image\n",
    "factor = 0x1 << bits\n",
    "image = np.floor(image * factor)\n",
    "image = np.clip(image, 0, factor - 1)\n",
    "image = image.astype(\"float32\") / factor"
   ]
  },
  {
   "cell_type": "code",
   "execution_count": 9,
   "metadata": {},
   "outputs": [],
   "source": [
    "# Make an image grid\n",
    "H, W = image.shape\n",
    "xs = np.arange(0, W)\n",
    "ys = np.arange(0, H)\n",
    "xs, ys = np.meshgrid(xs, ys)\n",
    "ones = np.ones_like(xs)\n",
    "grid = np.stack([xs, ys, ones], axis=-1)\n",
    "grid = grid.astype(\"float32\")"
   ]
  },
  {
   "cell_type": "code",
   "execution_count": 10,
   "metadata": {},
   "outputs": [],
   "source": [
    "# Geometry\n",
    "N = int(max(W, H))\n",
    "angles = np.linspace(0.0, 2.0 * np.pi, N, endpoint=False)"
   ]
  },
  {
   "cell_type": "code",
   "execution_count": 11,
   "metadata": {},
   "outputs": [],
   "source": [
    "# Compute sinogram\n",
    "sino = []\n",
    "for n, a in enumerate(angles):\n",
    "    theta = np.rad2deg(a)\n",
    "    rot = cv2.getRotationMatrix2D((W // 2, H // 2), theta, 1.0)\n",
    "    rot_grid = cv2.warpAffine(\n",
    "        grid,\n",
    "        rot,\n",
    "        (W, H),\n",
    "        flags=cv2.INTER_LINEAR,\n",
    "        borderMode=cv2.BORDER_CONSTANT,\n",
    "        borderValue=9999,\n",
    "    )\n",
    "\n",
    "    proj = np.zeros(W)\n",
    "    for j in range(W):\n",
    "        for i in range(H):\n",
    "            xp, yp = rot_grid[i, j, :2]\n",
    "            if xp < 0 or xp >= W - 1 or yp < 0 or yp >= H - 1:\n",
    "                continue\n",
    "\n",
    "            xi, yi = int(xp), int(yp)\n",
    "            xt, yt = xp - xi, yp - yi\n",
    "            proj[j] += (1 - xt) * (1 - yt) * image[yi, xi]\n",
    "            proj[j] += xt * (1 - yt) * image[yi, xi + 1]\n",
    "            proj[j] += (1 - xt) * yt * image[yi + 1, xi]\n",
    "            proj[j] += xt * yt * image[yi + 1, xi + 1]\n",
    "\n",
    "    sino.append(proj)\n",
    "\n",
    "sino = np.stack(sino, axis=0)"
   ]
  },
  {
   "cell_type": "code",
   "execution_count": 12,
   "metadata": {},
   "outputs": [
    {
     "data": {
      "image/png": "[encoded data removed]",
      "text/plain": [
       "<Figure size 1500x675 with 2 Axes>"
      ]
     },
     "metadata": {},
     "output_type": "display_data"
    }
   ],
   "source": [
    "# Show CT image and corresponding sinogram\n",
    "fig, axs = plt.subplots(1, 2, figsize=(10, 4.5))\n",
    "axs[0].imshow(image, vmin=0.0, vmax=1.0, cmap=\"gray\")\n",
    "axs[0].set_title(\"Original\")\n",
    "axs[0].set(xticks=[], yticks=[])\n",
    "axs[1].imshow(sino, cmap=\"gray\")\n",
    "axs[1].set_title(\"Sinogram\")\n",
    "axs[1].set(xticks=[], yticks=[])\n",
    "plt.tight_layout()\n",
    "plt.show()"
   ]
  },
  {
   "cell_type": "markdown",
   "metadata": {},
   "source": [
    "## CT reconstruction with quantum annealing"
   ]
  },
  {
   "cell_type": "code",
   "execution_count": 13,
   "metadata": {},
   "outputs": [],
   "source": [
    "def not_op(a):\n",
    "    return 1 - a\n",
    "\n",
    "\n",
    "def and_op(a, b):\n",
    "    return a * b\n",
    "\n",
    "\n",
    "def or_op(a, b):\n",
    "    return not_op(and_op(not_op(a), not_op(b)))\n",
    "\n",
    "\n",
    "def xor_op(a, b):\n",
    "    nand_ab = not_op(and_op(a, b))\n",
    "    or_ab = or_op(a, b)\n",
    "    return and_op(nand_ab, or_ab)"
   ]
  },
  {
   "cell_type": "code",
   "execution_count": 14,
   "metadata": {},
   "outputs": [],
   "source": [
    "# Binary variables\n",
    "graycode = jm.BinaryVar(\"x\", shape=(H, W, bits))"
   ]
  },
  {
   "cell_type": "code",
   "execution_count": 15,
   "metadata": {},
   "outputs": [],
   "source": [
    "vars = np.empty((H, W, bits), dtype=\"object\")\n",
    "for y, x in product(range(H), range(W)):\n",
    "    vars[y, x, bits - 1] = graycode[y, x, bits - 1]\n",
    "    for b in range(bits - 2, -1, -1):\n",
    "        vars[y, x, b] = xor_op(vars[y, x, b + 1], graycode[y, x, b])"
   ]
  },
  {
   "cell_type": "code",
   "execution_count": 16,
   "metadata": {},
   "outputs": [
    {
     "data": {
      "application/vnd.jupyter.widget-view+json": {
       "model_id": "73a091c667d442a79703979d0f302aa6",
       "version_major": 2,
       "version_minor": 0
      },
      "text/plain": [
       "  0%|          | 0/64 [00:00<?, ?it/s]"
      ]
     },
     "metadata": {},
     "output_type": "display_data"
    }
   ],
   "source": [
    "# Construct QUBO\n",
    "H0 = 0.0\n",
    "pbar = tqdm(total=len(angles) * W)\n",
    "for n, a in enumerate(angles):\n",
    "    theta = np.rad2deg(a)\n",
    "    rot = cv2.getRotationMatrix2D((W // 2, H // 2), theta, 1.0)\n",
    "    rot_grid = cv2.warpAffine(\n",
    "        grid,\n",
    "        rot,\n",
    "        (W, H),\n",
    "        flags=cv2.INTER_LINEAR,\n",
    "        borderMode=cv2.BORDER_CONSTANT,\n",
    "        borderValue=9999,\n",
    "    )\n",
    "\n",
    "    for j in range(W):\n",
    "        val = 0.0\n",
    "        for i in range(H):\n",
    "            xp, yp = rot_grid[i, j, :2]\n",
    "            if xp < 0 or xp >= W - 1 or yp < 0 or yp >= H - 1:\n",
    "                continue\n",
    "\n",
    "            xi, yi = int(xp), int(yp)\n",
    "            xt, yt = xp - xi, yp - yi\n",
    "            for b in range(bits):\n",
    "                w = (0x1 << b) / factor\n",
    "                val += w * (1 - xt) * (1 - yt) * vars[yi, xi, b]\n",
    "                val += w * xt * (1 - yt) * vars[yi, xi + 1, b]\n",
    "                val += w * (1 - xt) * yt * vars[yi + 1, xi, b]\n",
    "                val += w * xt * yt * vars[yi + 1, xi + 1, b]\n",
    "\n",
    "        H0 += (val - sino[n, j]) ** 2\n",
    "        pbar.update()"
   ]
  },
  {
   "cell_type": "code",
   "execution_count": 17,
   "metadata": {},
   "outputs": [],
   "source": [
    "# Make a OpenJij problem\n",
    "problem = jm.Problem(label)\n",
    "problem += H0"
   ]
  },
  {
   "cell_type": "code",
   "execution_count": 18,
   "metadata": {},
   "outputs": [],
   "source": [
    "# Obtain a QUBO\n",
    "compiled_model = jmt.core.compile_model(problem, {}, {})\n",
    "pubo_builder = jmt.core.pubo.transpile_to_pubo(compiled_model)\n",
    "pubo, const = pubo_builder.get_hubo_dict(multipliers={})"
   ]
  },
  {
   "cell_type": "code",
   "execution_count": 19,
   "metadata": {},
   "outputs": [],
   "source": [
    "def generate_mapping(variables, N):\n",
    "    mapping = {}\n",
    "    for i in range(1, N + 1):\n",
    "        mapping[i] = i\n",
    "    count = N + 1\n",
    "\n",
    "    for v in variables:\n",
    "        if type(v) == str:\n",
    "            mapping[v] = count\n",
    "            count += 1\n",
    "    return mapping\n",
    "\n",
    "\n",
    "if use_leap:\n",
    "    bqm_dimod = dimod.make_quadratic(poly=pubo, strength=5.0, vartype=\"BINARY\")\n",
    "    mapping = generate_mapping(bqm_dimod.variables, N=W * H * bits)\n",
    "    bqm_dimod.relabel_variables(mapping)\n",
    "    bqm = oj.BinaryQuadraticModel(\n",
    "        dict(bqm_dimod.linear),\n",
    "        dict(bqm_dimod.quadratic),\n",
    "        bqm_dimod.offset,\n",
    "        vartype=\"BINARY\",\n",
    "    )"
   ]
  },
  {
   "cell_type": "code",
   "execution_count": 20,
   "metadata": {},
   "outputs": [
    {
     "name": "stdout",
     "output_type": "stream",
     "text": [
      "Use local computer\n"
     ]
    }
   ],
   "source": [
    "# Quantum annealing\n",
    "if use_leap:\n",
    "    print(\"Use D-Wave Leap\")\n",
    "    solver = LeapHybridSampler()\n",
    "    res = solver.sample(bqm, label=label)\n",
    "else:\n",
    "    print(\"Use local computer\")\n",
    "    solver = oj.SASampler()\n",
    "    res = solver.sample_hubo(pubo, vartype=\"BINARY\")"
   ]
  },
  {
   "cell_type": "code",
   "execution_count": 21,
   "metadata": {},
   "outputs": [],
   "source": [
    "sampleset = jmt.core.pubo.decode_from_openjij(res, pubo_builder, compiled_model)\n",
    "sparse_index, value, _ = sampleset.record.solution[\"x\"][0]\n",
    "\n",
    "# Get reconstruction\n",
    "index = zip(*sorted(zip(*sparse_index)))\n",
    "bytes = np.zeros((H, W, bits), dtype=\"uint8\")\n",
    "bytes[*index] = 1"
   ]
  },
  {
   "cell_type": "code",
   "execution_count": 22,
   "metadata": {},
   "outputs": [],
   "source": [
    "# Get reconstruction result\n",
    "pred = np.zeros((H, W), dtype=\"float32\")\n",
    "for y, x in product(range(H), range(W)):\n",
    "    v = 0\n",
    "    for b in range(bits - 1, -1, -1):\n",
    "        if b == bits - 1:\n",
    "            v = bytes[y, x, b]\n",
    "        else:\n",
    "            v ^= bytes[y, x, b]\n",
    "\n",
    "        pred[y, x] += v * ((0x1 << b) / factor)\n",
    "\n",
    "# Error\n",
    "err = np.abs(image - pred)\n",
    "rmse = np.sqrt(np.mean(err**2))"
   ]
  },
  {
   "cell_type": "code",
   "execution_count": 23,
   "metadata": {},
   "outputs": [
    {
     "data": {
      "image/png": "[encoded data removed]",
      "text/plain": [
       "<Figure size 1500x600 with 3 Axes>"
      ]
     },
     "metadata": {},
     "output_type": "display_data"
    }
   ],
   "source": [
    "# Show result and error\n",
    "fig, axs = plt.subplots(1, 2, figsize=(10, 4))\n",
    "axs[0].imshow(pred, vmin=0.0, vmax=1.0, cmap=\"gray\")\n",
    "axs[0].set_title(\"Reconstruction\")\n",
    "axs[0].set(xticks=[], yticks=[])\n",
    "ims_err = axs[1].imshow(err, vmin=0.0, vmax=1.0, cmap=\"viridis\")\n",
    "fig.colorbar(ims_err, ax=axs[1], shrink=0.9)\n",
    "axs[1].set_title(f\"Error={rmse:.4f}\")\n",
    "axs[1].set(xticks=[], yticks=[])\n",
    "plt.tight_layout()\n",
    "plt.show()"
   ]
  },
  {
   "cell_type": "code",
   "execution_count": null,
   "metadata": {},
   "outputs": [],
   "source": []
  }
 ],
 "metadata": {
  "kernelspec": {
   "display_name": "quantum-exps-ecK2M2gn-py3.11",
   "language": "python",
   "name": "python3"
  },
  "language_info": {
   "codemirror_mode": {
    "name": "ipython",
    "version": 3
   },
   "file_extension": ".py",
   "mimetype": "text/x-python",
   "name": "python",
   "nbconvert_exporter": "python",
   "pygments_lexer": "ipython3",
   "version": "3.11.4"
  }
 },
 "nbformat": 4,
 "nbformat_minor": 2
}
