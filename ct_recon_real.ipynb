{
 "cells": [
  {
   "cell_type": "markdown",
   "metadata": {},
   "source": [
    "# CT reconstruction by Quantum Annealing (REAL)"
   ]
  },
  {
   "cell_type": "markdown",
   "metadata": {},
   "source": [
    "## Preparation"
   ]
  },
  {
   "cell_type": "code",
   "execution_count": 1,
   "metadata": {},
   "outputs": [],
   "source": [
    "from itertools import product\n",
    "\n",
    "import cv2\n",
    "import numpy as np\n",
    "import matplotlib as mpl\n",
    "import seaborn as sns\n",
    "import matplotlib.pyplot as plt\n",
    "\n",
    "from skimage.data import shepp_logan_phantom"
   ]
  },
  {
   "cell_type": "code",
   "execution_count": 2,
   "metadata": {},
   "outputs": [],
   "source": [
    "from dwave.cloud import Client\n",
    "from dwave.samplers import SimulatedAnnealingSampler\n",
    "from dwave.system import LeapHybridSampler\n",
    "from pyqubo import Array, Num"
   ]
  },
  {
   "cell_type": "code",
   "execution_count": 3,
   "metadata": {
    "tags": [
     "parameters"
    ]
   },
   "outputs": [],
   "source": [
    "proj_num_factor = 1\n",
    "img_size = 30\n",
    "bits = 10\n",
    "use_leap = True"
   ]
  },
  {
   "cell_type": "code",
   "execution_count": 4,
   "metadata": {},
   "outputs": [
    {
     "name": "stdout",
     "output_type": "stream",
     "text": [
      "hybrid_binary_quadratic_model_version2\n",
      "hybrid_discrete_quadratic_model_version1\n",
      "hybrid_constrained_quadratic_model_version1\n",
      "Advantage_system6.4\n",
      "Advantage_system4.1\n",
      "Advantage2_prototype2.3\n"
     ]
    }
   ],
   "source": [
    "client = Client.from_config()\n",
    "for s in client.get_solvers():\n",
    "    print(s.id)"
   ]
  },
  {
   "cell_type": "code",
   "execution_count": 5,
   "metadata": {},
   "outputs": [],
   "source": [
    "rc = {\n",
    "    \"figure.dpi\": 150,\n",
    "    \"figure.autolayout\": False,\n",
    "    \"font.family\": \"sans-serif\",\n",
    "    \"font.sans-serif\": \"Arial\",\n",
    "    \"axes.titlesize\": 16,\n",
    "    \"axes.labelsize\": 12,\n",
    "    \"xtick.labelsize\": 10,\n",
    "    \"ytick.labelsize\": 10,\n",
    "}\n",
    "sns.set_theme(context=\"notebook\", style=\"white\", rc=rc)"
   ]
  },
  {
   "cell_type": "markdown",
   "metadata": {},
   "source": [
    "## Compute sinogram from Shepp-Logan phantom"
   ]
  },
  {
   "cell_type": "code",
   "execution_count": 6,
   "metadata": {},
   "outputs": [
    {
     "name": "stdout",
     "output_type": "stream",
     "text": [
      "size: 512x512\n",
      "range: [0.0, 1.0]\n"
     ]
    }
   ],
   "source": [
    "# Load Shepp Logan phantom\n",
    "image = shepp_logan_phantom()\n",
    "image = image.astype(\"float32\")\n",
    "image = np.pad(image, ((56, 56), (56, 56)), mode=\"constant\", constant_values=0)\n",
    "print(f\"size: {image.shape[1]}x{image.shape[0]}\")\n",
    "print(f\"range: [{image.min():.1f}, {image.max():.1f}]\")"
   ]
  },
  {
   "cell_type": "code",
   "execution_count": 7,
   "metadata": {},
   "outputs": [
    {
     "name": "stdout",
     "output_type": "stream",
     "text": [
      "size: 30x30\n",
      "range: [0.0, 1.0]\n"
     ]
    }
   ],
   "source": [
    "# Shrink image to fit the number of qubits\n",
    "image = cv2.resize(image, (img_size, img_size), interpolation=cv2.INTER_AREA)\n",
    "image = (image - image.min()) / (image.max() - image.min())\n",
    "print(f\"size: {image.shape[1]}x{image.shape[0]}\")\n",
    "print(f\"range: [{image.min():.1f}, {image.max():.1f}]\")"
   ]
  },
  {
   "cell_type": "code",
   "execution_count": 8,
   "metadata": {},
   "outputs": [],
   "source": [
    "# Quantize image\n",
    "factor = 0x1 << bits\n",
    "image = np.floor(image * factor)\n",
    "image = np.clip(image, 0, factor - 1)\n",
    "image = image.astype(\"float32\") / factor"
   ]
  },
  {
   "cell_type": "code",
   "execution_count": 9,
   "metadata": {},
   "outputs": [],
   "source": [
    "# Make an image grid\n",
    "H, W = image.shape\n",
    "xs = np.arange(0, W)\n",
    "ys = np.arange(0, H)\n",
    "xs, ys = np.meshgrid(xs, ys)\n",
    "ones = np.ones_like(xs)\n",
    "grid = np.stack([xs, ys, ones], axis=-1)\n",
    "grid = grid.astype(\"float32\")"
   ]
  },
  {
   "cell_type": "code",
   "execution_count": 10,
   "metadata": {},
   "outputs": [],
   "source": [
    "# Geometry\n",
    "N = int(max(W, H) * proj_num_factor)\n",
    "angles = np.linspace(0.0, 2.0 * np.pi, N, endpoint=False)"
   ]
  },
  {
   "cell_type": "code",
   "execution_count": 11,
   "metadata": {},
   "outputs": [],
   "source": [
    "# Compute sinogram\n",
    "sino = []\n",
    "for n, a in enumerate(angles):\n",
    "    theta = np.rad2deg(a)\n",
    "    rot = cv2.getRotationMatrix2D((W // 2, H // 2), theta, 1.0)\n",
    "    rot_grid = cv2.warpAffine(\n",
    "        grid,\n",
    "        rot,\n",
    "        (W, H),\n",
    "        flags=cv2.INTER_LINEAR,\n",
    "        borderMode=cv2.BORDER_CONSTANT,\n",
    "        borderValue=9999,\n",
    "    )\n",
    "\n",
    "    proj = np.zeros(W)\n",
    "    for j in range(W):\n",
    "        for i in range(H):\n",
    "            xp, yp = rot_grid[i, j, :2]\n",
    "            if xp < 0 or xp >= W - 1 or yp < 0 or yp >= H - 1:\n",
    "                continue\n",
    "\n",
    "            xi, yi = int(xp), int(yp)\n",
    "            xt, yt = xp - xi, yp - yi\n",
    "            proj[j] += (1 - xt) * (1 - yt) * image[yi, xi]\n",
    "            proj[j] += xt * (1 - yt) * image[yi, xi + 1]\n",
    "            proj[j] += (1 - xt) * yt * image[yi + 1, xi]\n",
    "            proj[j] += xt * yt * image[yi + 1, xi + 1]\n",
    "\n",
    "    sino.append(proj)\n",
    "\n",
    "sino = np.stack(sino, axis=0)"
   ]
  },
  {
   "cell_type": "code",
   "execution_count": 12,
   "metadata": {},
   "outputs": [
    {
     "data": {
      "image/png": "[encoded data removed]",
      "text/plain": [
       "<Figure size 1500x675 with 2 Axes>"
      ]
     },
     "metadata": {},
     "output_type": "display_data"
    }
   ],
   "source": [
    "# Show CT image and corresponding sinogram\n",
    "fig, axs = plt.subplots(1, 2, figsize=(10, 4.5))\n",
    "axs[0].imshow(image, vmin=0.0, vmax=1.0, cmap=\"gray\")\n",
    "axs[0].set_title(\"Original\")\n",
    "axs[0].set(xticks=[], yticks=[])\n",
    "axs[1].imshow(sino, cmap=\"gray\")\n",
    "axs[1].set_title(\"Sinogram\")\n",
    "axs[1].set(xticks=[], yticks=[])\n",
    "plt.tight_layout()\n",
    "plt.show()"
   ]
  },
  {
   "cell_type": "markdown",
   "metadata": {},
   "source": [
    "## CT reconstruction with quantum annealing"
   ]
  },
  {
   "cell_type": "code",
   "execution_count": 13,
   "metadata": {},
   "outputs": [],
   "source": [
    "# Binary variables\n",
    "vars = Array.create(\"x\", shape=(H, W, bits), vartype=\"BINARY\")\n",
    "\n",
    "# Construct QUBO\n",
    "H0 = Num(0.0)\n",
    "for n, a in enumerate(angles):\n",
    "    theta = np.rad2deg(a)\n",
    "    rot = cv2.getRotationMatrix2D((W // 2, H // 2), theta, 1.0)\n",
    "    rot_grid = cv2.warpAffine(\n",
    "        grid,\n",
    "        rot,\n",
    "        (W, H),\n",
    "        flags=cv2.INTER_LINEAR,\n",
    "        borderMode=cv2.BORDER_CONSTANT,\n",
    "        borderValue=9999,\n",
    "    )\n",
    "\n",
    "    for j in range(W):\n",
    "        val = 0.0\n",
    "        for i in range(H):\n",
    "            xp, yp = rot_grid[i, j, :2]\n",
    "            if xp < 0 or xp >= W - 1 or yp < 0 or yp >= H - 1:\n",
    "                continue\n",
    "\n",
    "            xi, yi = int(xp), int(yp)\n",
    "            xt, yt = xp - xi, yp - yi\n",
    "            for b in range(bits):\n",
    "                w = (0x1 << b) / factor\n",
    "                val += w * (1 - xt) * (1 - yt) * vars[yi, xi, b]\n",
    "                val += w * xt * (1 - yt) * vars[yi, xi + 1, b]\n",
    "                val += w * (1 - xt) * yt * vars[yi + 1, xi, b]\n",
    "                val += w * xt * yt * vars[yi + 1, xi + 1, b]\n",
    "\n",
    "        H0 += (val - sino[n, j])**2"
   ]
  },
  {
   "cell_type": "code",
   "execution_count": 14,
   "metadata": {},
   "outputs": [
    {
     "name": "stdout",
     "output_type": "stream",
     "text": [
      "Use D-Wave Leap\n"
     ]
    }
   ],
   "source": [
    "# Compile a model\n",
    "model = H0.compile()\n",
    "qubo, _ = model.to_qubo()\n",
    "label = \"Real CT reconstruction\"\n",
    "\n",
    "if use_leap:\n",
    "    print(\"Use D-Wave Leap\")\n",
    "    solver = LeapHybridSampler()\n",
    "else:\n",
    "    print(\"Use local computer\")\n",
    "    solver = SimulatedAnnealingSampler()"
   ]
  },
  {
   "cell_type": "code",
   "execution_count": 15,
   "metadata": {},
   "outputs": [
    {
     "name": "stdout",
     "output_type": "stream",
     "text": [
      "1.0000174557044375\n"
     ]
    }
   ],
   "source": [
    "# Perform simulated annealing\n",
    "sampleset = solver.sample_qubo(qubo, label=label)\n",
    "decoded_samples = model.decode_sampleset(sampleset)\n",
    "best_sample = min(decoded_samples, key=lambda x: x.energy)\n",
    "print(best_sample.energy)"
   ]
  },
  {
   "cell_type": "code",
   "execution_count": 16,
   "metadata": {},
   "outputs": [],
   "source": [
    "# Get reconstruction result\n",
    "pred = np.zeros((H, W), dtype=\"float32\")\n",
    "for y, x in product(range(H), range(W)):\n",
    "    for b in range(bits):\n",
    "        try:\n",
    "            v = best_sample.array(\"x\", (y, x, b))\n",
    "        except IndexError:\n",
    "            v = 0.0\n",
    "\n",
    "        pred[y, x] += v * ((0x1 << b) / factor)\n",
    "\n",
    "# Error\n",
    "err = np.abs(image - pred)"
   ]
  },
  {
   "cell_type": "code",
   "execution_count": 19,
   "metadata": {},
   "outputs": [
    {
     "data": {
      "image/png": "[encoded data removed]",
      "text/plain": [
       "<Figure size 1500x600 with 3 Axes>"
      ]
     },
     "metadata": {},
     "output_type": "display_data"
    }
   ],
   "source": [
    "# Show result and error\n",
    "fig, axs = plt.subplots(1, 2, figsize=(10, 4))\n",
    "axs[0].imshow(pred, vmin=0.0, vmax=1.0, cmap=\"gray\")\n",
    "axs[0].set_title(\"Reconstruction\")\n",
    "axs[0].set(xticks=[], yticks=[])\n",
    "ims_err = axs[1].imshow(err, vmin=0.0, vmax=1.0, cmap=\"viridis\")\n",
    "fig.colorbar(ims_err, ax=axs[1], shrink=0.9)\n",
    "axs[1].set_title(\"Error\")\n",
    "axs[1].set(xticks=[], yticks=[])\n",
    "plt.tight_layout()\n",
    "plt.show()"
   ]
  },
  {
   "cell_type": "code",
   "execution_count": 18,
   "metadata": {},
   "outputs": [
    {
     "name": "stdout",
     "output_type": "stream",
     "text": [
      "RMSE: 0.088\n"
     ]
    }
   ],
   "source": [
    "print(f\"RMSE: {np.sqrt(np.mean(err**2)):.3f}\")"
   ]
  },
  {
   "cell_type": "code",
   "execution_count": null,
   "metadata": {},
   "outputs": [],
   "source": []
  }
 ],
 "metadata": {
  "kernelspec": {
   "display_name": "quantum-exps-ecK2M2gn-py3.11",
   "language": "python",
   "name": "python3"
  },
  "language_info": {
   "codemirror_mode": {
    "name": "ipython",
    "version": 3
   },
   "file_extension": ".py",
   "mimetype": "text/x-python",
   "name": "python",
   "nbconvert_exporter": "python",
   "pygments_lexer": "ipython3",
   "version": "3.11.9"
  }
 },
 "nbformat": 4,
 "nbformat_minor": 2
}
